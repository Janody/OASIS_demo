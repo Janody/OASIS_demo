{
 "cells": [
  {
   "cell_type": "markdown",
   "metadata": {},
   "source": [
    "## Activity scheduling simulator - Update: 29.09.21\n",
    "\n",
    "This notebook walks through the implementation of the code. The simulator takes as input a schedule from the MTMC (the raw data is processed into a pandas dataframe with the function ```preprocess_data``` from the ```preprocessing``` module) and a travel time matrix for the visited locations and a given mode, computed using the Google Directions API. \n",
    "\n",
    "The assumptions as of now are the following:\n",
    "* the provided schedule is treated as the individual's scheduling preferences (i.e. desired start time, duration, etc.)\n",
    "* mode and location are considered known (the default mode used for the optimization is driving)\n",
    "\n",
    "NB: As the main function of the program, only optimize_schedule is presented in detail. The code for all the other auxiliary functions is available in the respective modules (```preprocessing.py``` and ```data_utils.py```). "
   ]
  },
  {
   "cell_type": "markdown",
   "metadata": {},
   "source": [
    "### Required packages\n",
    "\n",
    "This notebook requires the docplex package with a valid CPLEX license to run: \n",
    "https://pypi.org/project/docplex/ and https://www.ibm.com/support/knowledgecenter/SSSA5P_12.7.1/ilog.odms.cplex.help/CPLEX/GettingStarted/topics/set_up/Python_setup.html"
   ]
  },
  {
   "cell_type": "code",
   "execution_count": 1,
   "metadata": {
    "ExecuteTime": {
     "end_time": "2021-09-27T13:11:09.009306Z",
     "start_time": "2021-09-27T13:11:07.189840Z"
    }
   },
   "outputs": [],
   "source": [
    "import pandas as pd\n",
    "import numpy as np\n",
    "import matplotlib.pyplot as plt\n",
    "from scipy.stats import entropy\n",
    "from importlib import reload\n",
    "import pickle\n",
    "import glob\n",
    "import re\n",
    "import os\n",
    "\n",
    "from model import optimize_schedule\n",
    "\n",
    "pd.options.display.float_format = '{:.3g}'.format"
   ]
  },
  {
   "cell_type": "markdown",
   "metadata": {},
   "source": [
    "### Input data and preprocessing\n",
    "\n",
    "The two inputs for each household (i.e. individual) are the schedule from the microcensus and a travel time matrix. The raw data is processed as to have a specific format. Each schedule contains, for each recorded activity: \n",
    "* an **id** and **label**, as defined in the MTMC, \n",
    "* a **label** for the model, \n",
    "* **start, end time** and **duration**, in hours, \n",
    "* **feasible start/end times**, in hours. \n",
    "* **location**, as a tuple (lon, lat) and a **location id** for the model,\n",
    "* **categories**, either mandatory, maintenance or discretionary, \n",
    "* **flexibility profiles**, either flexible (F), moderately flexible (M) and not flexible/rigid (R)\n",
    "\n",
    "At the moment, the feasible times, the categories and the flexibility profiles are arbitrarily defined.\n",
    "\n",
    "An example schedule is provided for the household with ID 145440."
   ]
  },
  {
   "cell_type": "code",
   "execution_count": 2,
   "metadata": {
    "ExecuteTime": {
     "end_time": "2021-09-27T13:11:09.047419Z",
     "start_time": "2021-09-27T13:11:09.011786Z"
    }
   },
   "outputs": [
    {
     "data": {
      "text/html": [
       "<div>\n",
       "<style scoped>\n",
       "    .dataframe tbody tr th:only-of-type {\n",
       "        vertical-align: middle;\n",
       "    }\n",
       "\n",
       "    .dataframe tbody tr th {\n",
       "        vertical-align: top;\n",
       "    }\n",
       "\n",
       "    .dataframe thead th {\n",
       "        text-align: right;\n",
       "    }\n",
       "</style>\n",
       "<table border=\"1\" class=\"dataframe\">\n",
       "  <thead>\n",
       "    <tr style=\"text-align: right;\">\n",
       "      <th></th>\n",
       "      <th>act_id</th>\n",
       "      <th>act_label</th>\n",
       "      <th>label</th>\n",
       "      <th>start_time</th>\n",
       "      <th>end_time</th>\n",
       "      <th>duration</th>\n",
       "      <th>feasible_start</th>\n",
       "      <th>feasible_end</th>\n",
       "      <th>location</th>\n",
       "      <th>loc_id</th>\n",
       "      <th>categories</th>\n",
       "      <th>flex_early</th>\n",
       "      <th>flex_late</th>\n",
       "      <th>flex_short</th>\n",
       "      <th>flex_long</th>\n",
       "      <th>mode</th>\n",
       "      <th>group</th>\n",
       "    </tr>\n",
       "  </thead>\n",
       "  <tbody>\n",
       "    <tr>\n",
       "      <th>0</th>\n",
       "      <td>1</td>\n",
       "      <td>home</td>\n",
       "      <td>dawn</td>\n",
       "      <td>0</td>\n",
       "      <td>9.5</td>\n",
       "      <td>9.5</td>\n",
       "      <td>0</td>\n",
       "      <td>24</td>\n",
       "      <td>(46.5356, 6.60019)</td>\n",
       "      <td>1</td>\n",
       "      <td>discret</td>\n",
       "      <td>F</td>\n",
       "      <td>M</td>\n",
       "      <td>F</td>\n",
       "      <td>F</td>\n",
       "      <td>driving</td>\n",
       "      <td>dawn</td>\n",
       "    </tr>\n",
       "    <tr>\n",
       "      <th>1</th>\n",
       "      <td>2</td>\n",
       "      <td>work</td>\n",
       "      <td>work1</td>\n",
       "      <td>9.53</td>\n",
       "      <td>13.5</td>\n",
       "      <td>3.97</td>\n",
       "      <td>5</td>\n",
       "      <td>23</td>\n",
       "      <td>(46.5355, 6.59967)</td>\n",
       "      <td>0</td>\n",
       "      <td>mandat</td>\n",
       "      <td>R</td>\n",
       "      <td>R</td>\n",
       "      <td>R</td>\n",
       "      <td>M</td>\n",
       "      <td>driving</td>\n",
       "      <td>work</td>\n",
       "    </tr>\n",
       "    <tr>\n",
       "      <th>2</th>\n",
       "      <td>1</td>\n",
       "      <td>home</td>\n",
       "      <td>home</td>\n",
       "      <td>13.5</td>\n",
       "      <td>15.2</td>\n",
       "      <td>1.63</td>\n",
       "      <td>0</td>\n",
       "      <td>24</td>\n",
       "      <td>(46.5356, 6.60019)</td>\n",
       "      <td>1</td>\n",
       "      <td>discret</td>\n",
       "      <td>F</td>\n",
       "      <td>M</td>\n",
       "      <td>F</td>\n",
       "      <td>F</td>\n",
       "      <td>driving</td>\n",
       "      <td>home</td>\n",
       "    </tr>\n",
       "    <tr>\n",
       "      <th>3</th>\n",
       "      <td>2</td>\n",
       "      <td>work</td>\n",
       "      <td>work2</td>\n",
       "      <td>15.2</td>\n",
       "      <td>20</td>\n",
       "      <td>4.8</td>\n",
       "      <td>5</td>\n",
       "      <td>23</td>\n",
       "      <td>(46.5355, 6.59967)</td>\n",
       "      <td>0</td>\n",
       "      <td>mandat</td>\n",
       "      <td>R</td>\n",
       "      <td>R</td>\n",
       "      <td>R</td>\n",
       "      <td>M</td>\n",
       "      <td>driving</td>\n",
       "      <td>work</td>\n",
       "    </tr>\n",
       "    <tr>\n",
       "      <th>4</th>\n",
       "      <td>8</td>\n",
       "      <td>leisure</td>\n",
       "      <td>leisure</td>\n",
       "      <td>20.5</td>\n",
       "      <td>20.5</td>\n",
       "      <td>0</td>\n",
       "      <td>0</td>\n",
       "      <td>24</td>\n",
       "      <td>(46.5355, 6.59967)</td>\n",
       "      <td>0</td>\n",
       "      <td>discret</td>\n",
       "      <td>F</td>\n",
       "      <td>M</td>\n",
       "      <td>F</td>\n",
       "      <td>F</td>\n",
       "      <td>driving</td>\n",
       "      <td>leisure</td>\n",
       "    </tr>\n",
       "    <tr>\n",
       "      <th>5</th>\n",
       "      <td>1</td>\n",
       "      <td>home</td>\n",
       "      <td>dusk</td>\n",
       "      <td>20.5</td>\n",
       "      <td>24</td>\n",
       "      <td>3.5</td>\n",
       "      <td>0</td>\n",
       "      <td>24</td>\n",
       "      <td>(46.5356, 6.60019)</td>\n",
       "      <td>1</td>\n",
       "      <td>discret</td>\n",
       "      <td>F</td>\n",
       "      <td>M</td>\n",
       "      <td>F</td>\n",
       "      <td>F</td>\n",
       "      <td>driving</td>\n",
       "      <td>dusk</td>\n",
       "    </tr>\n",
       "  </tbody>\n",
       "</table>\n",
       "</div>"
      ],
      "text/plain": [
       "   act_id act_label    label  start_time  end_time  duration  feasible_start  \\\n",
       "0       1      home     dawn           0       9.5       9.5               0   \n",
       "1       2      work    work1        9.53      13.5      3.97               5   \n",
       "2       1      home     home        13.5      15.2      1.63               0   \n",
       "3       2      work    work2        15.2        20       4.8               5   \n",
       "4       8   leisure  leisure        20.5      20.5         0               0   \n",
       "5       1      home     dusk        20.5        24       3.5               0   \n",
       "\n",
       "   feasible_end            location  loc_id categories flex_early flex_late  \\\n",
       "0            24  (46.5356, 6.60019)       1    discret          F         M   \n",
       "1            23  (46.5355, 6.59967)       0     mandat          R         R   \n",
       "2            24  (46.5356, 6.60019)       1    discret          F         M   \n",
       "3            23  (46.5355, 6.59967)       0     mandat          R         R   \n",
       "4            24  (46.5355, 6.59967)       0    discret          F         M   \n",
       "5            24  (46.5356, 6.60019)       1    discret          F         M   \n",
       "\n",
       "  flex_short flex_long     mode    group  \n",
       "0          F         F  driving     dawn  \n",
       "1          R         M  driving     work  \n",
       "2          F         F  driving     home  \n",
       "3          R         M  driving     work  \n",
       "4          F         F  driving  leisure  \n",
       "5          F         F  driving     dusk  "
      ]
     },
     "execution_count": 2,
     "metadata": {},
     "output_type": "execute_result"
    }
   ],
   "source": [
    "h = 145440\n",
    "\n",
    "sched = pd.read_csv(f'example/{h}.csv')\n",
    "#need to convert locations back to tuple as they get imported as strings\n",
    "sched['location'] = sched.location.apply(lambda x: tuple(map(float,x[1:-1].split(','))))\n",
    "sched['mode'] = 'driving' #ignore mode choice for this example \n",
    "\n",
    "sched['group'] = sched.loc[:, 'act_label']\n",
    "sched.loc[0, 'group'] = 'dawn' #as dawn and dusk are allowed to be duplicated\n",
    "sched.loc[sched.index[-1], 'group'] = 'dusk'\n",
    "\n",
    "sched"
   ]
  },
  {
   "cell_type": "markdown",
   "metadata": {},
   "source": [
    "The travel time matrix is a dictionary with 2 keys (origin and destination as lon-lat tuples). The time is in hours. "
   ]
  },
  {
   "cell_type": "code",
   "execution_count": 3,
   "metadata": {
    "ExecuteTime": {
     "end_time": "2021-09-27T13:11:09.057877Z",
     "start_time": "2021-09-27T13:11:09.049958Z"
    }
   },
   "outputs": [
    {
     "data": {
      "text/plain": [
       "{'driving': {(46.5356, 6.60019): {(46.5356, 6.60019): 0,\n",
       "   (46.5355, 6.59967): 0.0002777777777777778},\n",
       "  (46.5355, 6.59967): {(46.5356, 6.60019): 0.0002777777777777778,\n",
       "   (46.5355, 6.59967): 0}}}"
      ]
     },
     "execution_count": 3,
     "metadata": {},
     "output_type": "execute_result"
    }
   ],
   "source": [
    "tt_driving = pickle.load(open(f'example/{h}_driving.pickle', \"rb\"))\n",
    "travel_times = {'driving': tt_driving}\n",
    "\n",
    "travel_times"
   ]
  },
  {
   "cell_type": "markdown",
   "metadata": {},
   "source": [
    "### Optimizing schedules\n",
    "\n",
    "This section presents the implementation of the optimization model (see technical report). The full code is provided in ```model.py```.\n",
    "\n",
    "```python\n",
    "def optimize_schedule(df, travel_times, n_iter,  plot_every, mtmc = True, parameters = None, deterministic = False, plot_mode = False)```\n",
    "\n",
    "The function takes as input:\n",
    "* **df**: the dataframe containing the desired schedule (processed data)\n",
    "* **travel_times**: the dataframe containing the travel times to the visited locations (processed data)\n",
    "* **n_iter**: an iteration counter, useful if simulation is performed multiple times\n",
    "* **plot_every**: counter for plot display - used mainly to avoid displaying every generated schedules for large numbers of iterations\n",
    "* **mtmc**: for now, boolean variable that indicates if the data source is the microcensus. This was done to disable some features and constraints (e.g. duplicate activities) given the data availability. Will probably be modified or removed. \n",
    "* **parameters**: dictionary containing values for all the parameters in the model (penalties, error terms, preferences). A default set is instantiated within the function. \n",
    "* **deterministic**: boolean set to True if we are solving the problem deterministically for a given set of parameters (i.e. EV distributed term in the utility function is 0). This is ony used to compute the likelihood function for the estimation of parameters. For all other applications this should be set to False.\n",
    "* **plot_mode**: boolean set to True if a graph with the mode choice should be output (experimental). Default is False. \n",
    "\n",
    "A **time period** argument could be added to the input, for now I am using 24h by default.\n",
    "\n",
    "The following model components will be presented in this section: the *decision variables*, the *error term structure*, and the *output*.\n",
    "\n",
    "The model is instantiated as a CPLEX Model object: \n",
    "```python\n",
    "m = Model()```"
   ]
  },
  {
   "cell_type": "markdown",
   "metadata": {},
   "source": [
    "#### 1. Decision variables \n",
    "\n",
    "Following the technical report, the decision variables are, for each activity $i$ and individual $n$: \n",
    "* w<sub>i</sub>: boolean variable for activity participation (1 if activity $i$ is chosen)\n",
    "* x<sub>i</sub>: *continuous* variable for start time, with lower bound set to 0\n",
    "* d<sub>i</sub>: *continuous* variable for duration, with lower bound set to 0\n",
    "* z<sub>ij</sub>: boolean variable for activity succession between $i$ and $j$ (1 if activity $j$follows activity $i$)\n",
    "* tt<sub>ij</sub>: *continuous* variable for travel time. This is not actually a decision variable in the mathematical formulation, but it is included as such in the model for simplicity. Its values are constrained to be equal to the input travel time matrix. \n",
    "* md: boolean variable for choice of mode. This variable ensures mode consistency for activity tours (experimental - only car has been included for now, but will be expanded to all private modes)\n",
    "\n",
    "```python\n",
    "x = m.continuous_var_dict(keys, lb = 0, name = 'x')\n",
    "z = m.binary_var_matrix(keys, keys, name = 'z') \n",
    "d = m.continuous_var_dict(keys, lb = 0, name = 'd')\n",
    "w = m.binary_var_dict(keys, name = 'w') \n",
    "tt = m.continuous_var_dict(keys, lb = 0, name = 'tt') \n",
    "md = m.binary_var_dict(keys, name = 'md') \n",
    "```\n",
    "\n",
    "All decision variables are dictionaries. The keys are the activities labels, as defined in the input schedule. \n",
    "The input data (desired timings, locations...) are also converted to dictionaries with the same keys, using the function ```create_dicts```."
   ]
  },
  {
   "cell_type": "markdown",
   "metadata": {},
   "source": [
    "#### 2. Error term structure\n",
    "\n",
    "**UPDATE 29/09/21: the following error structure is still implemented in the code but will be changed in the future.** As defined in the technical report, the error term has an error component structure, with one component per decision variable. Each component follows a $k$-variate normal distribution, with $k$ the possible values that the decision variable can take. For simplification, the error components of the continuous decision variables (start time and duration) have been discretized. At the moment, the correlation structure of the components has not been explored. All the error distributions have a zero mean and an identity covariance matrix. For each activity $i$ and each individual $n$, a value of the error is drawn from these distributions. In the model, this is defined as follows: \n",
    "\n",
    "* **Participation ($w$) and succession ($z$) errors**: 2x1 arrays of random draws from a normal distribution (2 possible values as they are binary decision variables)\n",
    "* **Start time error**: 4x1 array of random draws from normal distribution. The start time has been discretized in 6h time blocks. \n",
    "* **Duration error**: 6x1 array of random draws from normal distribution. The duration has been discretized in 4h time blocks (this should be changed to a non uniform discretization, e.g. (0-30minutes, 30min-1h, 1-3h, 3 and more)\n",
    "* An additional **EV distributed term**: The scale parameter has been set to 1 (and zero mean), making this equivalent to a draw from the Gumbel distribution.\n",
    "\n",
    "At each iteration of the simulation, a new value is drawn for each component and value of the decision variable. *NB: no seed has been fixed yet.*\n",
    "\n",
    "The error terms are included in the objective function by introducing CPLEX [piecewise functions](https://ibmdecisionoptimization.github.io/docplex-doc/mp/docplex.mp.model.html#docplex.mp.model.Model.piecewise) (```error_w```,```error_x```, ```error_d``` and ```error_z``` in the code) that act as indicator variables. These functions have been used instead of actual indicators to avoid adding constraints to the model.\n",
    "\n",
    "```python\n",
    "#objective function\n",
    "m.maximize(m.sum(w[a] * ((p_st_e[flex_early[a]]) * m.max(des_start[a]-x[a], 0) \n",
    "                         + (p_st_l[flex_late[a]]) * m.max(x[a]-des_start[a], 0) \n",
    "                         +(p_dur_s[flex_short[a]]) * m.max(des_duration[a]-d[a], 0)\n",
    "                         +(p_dur_l[flex_long[a]]) * m.max(d[a] - des_duration[a], 0)\n",
    "                         + (p_t) * tt[a]) \n",
    "                         + error_w*w[a] + error_x*x[a] + error_d*d[a]+ m.sum(error_z*z[a,b] for b in keys) \n",
    "                         for a in keys) + np.random.gumbel())\n",
    "```"
   ]
  },
  {
   "cell_type": "markdown",
   "metadata": {},
   "source": [
    "#### 3. Output\n",
    "\n",
    "If the optimization is successful, the model outputs a CPLEX solution object. A function has been written to convert this result into a pandas dataframe (```cplex_to_df```), to make it easier to plot (using ```plot_schedule``` function). \n",
    "If there is no solution, the model outputs an error message as well as a summary of the encountered conflicts. "
   ]
  },
  {
   "cell_type": "markdown",
   "metadata": {},
   "source": [
    "### Example\n",
    "\n",
    "We can optimize the schedule of household 145440. We perform 100 iterations to see the variations of generated schedules for different values of the error term. The new error structure does not seem to have a negative impact on the solving time (for this example around 1-1.5 minutes for 100 iterations on my local machine) as compared to before, but the impact of a more accurate structure will have to be tested. "
   ]
  },
  {
   "cell_type": "code",
   "execution_count": 4,
   "metadata": {
    "ExecuteTime": {
     "end_time": "2021-09-27T13:12:15.281256Z",
     "start_time": "2021-09-27T13:11:09.060188Z"
    },
    "scrolled": false
   },
   "outputs": [
    {
     "name": "stdout",
     "output_type": "stream",
     "text": [
      "Solving time: 65.00 seconds.\n"
     ]
    },
    {
     "data": {
      "image/png": "[encoded data removed]",
      "text/plain": [
       "<Figure size 1440x216 with 1 Axes>"
      ]
     },
     "metadata": {
      "needs_background": "light"
     },
     "output_type": "display_data"
    },
    {
     "data": {
      "image/png": "[encoded data removed]",
      "text/plain": [
       "<Figure size 1440x216 with 1 Axes>"
      ]
     },
     "metadata": {
      "needs_background": "light"
     },
     "output_type": "display_data"
    },
    {
     "data": {
      "image/png": "[encoded data removed]",
      "text/plain": [
       "<Figure size 1440x216 with 1 Axes>"
      ]
     },
     "metadata": {
      "needs_background": "light"
     },
     "output_type": "display_data"
    },
    {
     "data": {
      "image/png": "[encoded data removed]",
      "text/plain": [
       "<Figure size 1440x216 with 1 Axes>"
      ]
     },
     "metadata": {
      "needs_background": "light"
     },
     "output_type": "display_data"
    },
    {
     "data": {
      "image/png": "[encoded data removed]",
      "text/plain": [
       "<Figure size 1440x216 with 1 Axes>"
      ]
     },
     "metadata": {
      "needs_background": "light"
     },
     "output_type": "display_data"
    },
    {
     "data": {
      "image/png": "[encoded data removed]",
      "text/plain": [
       "<Figure size 1440x216 with 1 Axes>"
      ]
     },
     "metadata": {
      "needs_background": "light"
     },
     "output_type": "display_data"
    },
    {
     "data": {
      "image/png": "[encoded data removed]",
      "text/plain": [
       "<Figure size 1440x216 with 1 Axes>"
      ]
     },
     "metadata": {
      "needs_background": "light"
     },
     "output_type": "display_data"
    },
    {
     "data": {
      "image/png": "[encoded data removed]",
      "text/plain": [
       "<Figure size 1440x216 with 1 Axes>"
      ]
     },
     "metadata": {
      "needs_background": "light"
     },
     "output_type": "display_data"
    },
    {
     "data": {
      "image/png": "[encoded data removed]",
      "text/plain": [
       "<Figure size 1440x216 with 1 Axes>"
      ]
     },
     "metadata": {
      "needs_background": "light"
     },
     "output_type": "display_data"
    },
    {
     "data": {
      "image/png": "[encoded data removed]",
      "text/plain": [
       "<Figure size 1440x216 with 1 Axes>"
      ]
     },
     "metadata": {
      "needs_background": "light"
     },
     "output_type": "display_data"
    }
   ],
   "source": [
    "import time\n",
    "\n",
    "start_time = time.time()\n",
    "n = 100\n",
    "n_iter = 0\n",
    "\n",
    "for i in range(n): \n",
    "    sol, fig, _, _ = optimize_schedule(sched, travel_times,n_iter, plot_every=10)\n",
    "    n_iter += 1\n",
    "    \n",
    "print(f\"Solving time: {(time.time() - start_time):.2f} seconds.\")"
   ]
  },
  {
   "cell_type": "markdown",
   "metadata": {},
   "source": [
    "A solution dataframe with the same format as the input can also be produced. See below the result of the last iteration."
   ]
  },
  {
   "cell_type": "code",
   "execution_count": 5,
   "metadata": {
    "ExecuteTime": {
     "end_time": "2021-09-27T13:12:15.296887Z",
     "start_time": "2021-09-27T13:12:15.283399Z"
    }
   },
   "outputs": [
    {
     "data": {
      "text/html": [
       "<div>\n",
       "<style scoped>\n",
       "    .dataframe tbody tr th:only-of-type {\n",
       "        vertical-align: middle;\n",
       "    }\n",
       "\n",
       "    .dataframe tbody tr th {\n",
       "        vertical-align: top;\n",
       "    }\n",
       "\n",
       "    .dataframe thead th {\n",
       "        text-align: right;\n",
       "    }\n",
       "</style>\n",
       "<table border=\"1\" class=\"dataframe\">\n",
       "  <thead>\n",
       "    <tr style=\"text-align: right;\">\n",
       "      <th></th>\n",
       "      <th>act_id</th>\n",
       "      <th>label</th>\n",
       "      <th>start_time</th>\n",
       "      <th>end_time</th>\n",
       "      <th>duration</th>\n",
       "      <th>location</th>\n",
       "      <th>mode</th>\n",
       "      <th>travel_time</th>\n",
       "      <th>car_avail</th>\n",
       "    </tr>\n",
       "  </thead>\n",
       "  <tbody>\n",
       "    <tr>\n",
       "      <th>0</th>\n",
       "      <td>1</td>\n",
       "      <td>dawn</td>\n",
       "      <td>0</td>\n",
       "      <td>9.53</td>\n",
       "      <td>9.53</td>\n",
       "      <td>(46.5356, 6.60019)</td>\n",
       "      <td>driving</td>\n",
       "      <td>0.000278</td>\n",
       "      <td>1</td>\n",
       "    </tr>\n",
       "    <tr>\n",
       "      <th>1</th>\n",
       "      <td>2</td>\n",
       "      <td>work1</td>\n",
       "      <td>9.53</td>\n",
       "      <td>13.5</td>\n",
       "      <td>3.97</td>\n",
       "      <td>(46.5355, 6.59967)</td>\n",
       "      <td>driving</td>\n",
       "      <td>0.000278</td>\n",
       "      <td>1</td>\n",
       "    </tr>\n",
       "    <tr>\n",
       "      <th>2</th>\n",
       "      <td>1</td>\n",
       "      <td>home</td>\n",
       "      <td>13.5</td>\n",
       "      <td>15</td>\n",
       "      <td>1.5</td>\n",
       "      <td>(46.5356, 6.60019)</td>\n",
       "      <td>driving</td>\n",
       "      <td>0.000278</td>\n",
       "      <td>1</td>\n",
       "    </tr>\n",
       "    <tr>\n",
       "      <th>3</th>\n",
       "      <td>8</td>\n",
       "      <td>leisure</td>\n",
       "      <td>15</td>\n",
       "      <td>16</td>\n",
       "      <td>1</td>\n",
       "      <td>(46.5355, 6.59967)</td>\n",
       "      <td>driving</td>\n",
       "      <td>0.000278</td>\n",
       "      <td>1</td>\n",
       "    </tr>\n",
       "    <tr>\n",
       "      <th>4</th>\n",
       "      <td>1</td>\n",
       "      <td>dusk</td>\n",
       "      <td>16</td>\n",
       "      <td>24</td>\n",
       "      <td>8</td>\n",
       "      <td>(46.5356, 6.60019)</td>\n",
       "      <td>driving</td>\n",
       "      <td>0</td>\n",
       "      <td>1</td>\n",
       "    </tr>\n",
       "  </tbody>\n",
       "</table>\n",
       "</div>"
      ],
      "text/plain": [
       "  act_id    label start_time end_time duration            location     mode  \\\n",
       "0      1     dawn          0     9.53     9.53  (46.5356, 6.60019)  driving   \n",
       "1      2    work1       9.53     13.5     3.97  (46.5355, 6.59967)  driving   \n",
       "2      1     home       13.5       15      1.5  (46.5356, 6.60019)  driving   \n",
       "3      8  leisure         15       16        1  (46.5355, 6.59967)  driving   \n",
       "4      1     dusk         16       24        8  (46.5356, 6.60019)  driving   \n",
       "\n",
       "  travel_time  car_avail  \n",
       "0    0.000278          1  \n",
       "1    0.000278          1  \n",
       "2    0.000278          1  \n",
       "3    0.000278          1  \n",
       "4           0          1  "
      ]
     },
     "execution_count": 5,
     "metadata": {},
     "output_type": "execute_result"
    }
   ],
   "source": [
    "sol"
   ]
  },
  {
   "cell_type": "markdown",
   "metadata": {},
   "source": [
    "### Next steps\n",
    "\n",
    "The next steps of the model development will be: \n",
    "\n",
    "* Improving the performance of the optimization algorihtm: implementation of techniques to speed up MILP convergence.\n",
    "\n",
    "* Estimation of parameters, using MNL specification and choice set generated with importance sampling (Metropolis-Hastings procedure)"
   ]
  },
  {
   "cell_type": "code",
   "execution_count": null,
   "metadata": {},
   "outputs": [],
   "source": []
  }
 ],
 "metadata": {
  "kernelspec": {
   "display_name": "Python [conda env:optim]",
   "language": "python",
   "name": "conda-env-optim-py"
  },
  "language_info": {
   "codemirror_mode": {
    "name": "ipython",
    "version": 3
   },
   "file_extension": ".py",
   "mimetype": "text/x-python",
   "name": "python",
   "nbconvert_exporter": "python",
   "pygments_lexer": "ipython3",
   "version": "3.7.7"
  },
  "varInspector": {
   "cols": {
    "lenName": 16,
    "lenType": 16,
    "lenVar": 40
   },
   "kernels_config": {
    "python": {
     "delete_cmd_postfix": "",
     "delete_cmd_prefix": "del ",
     "library": "var_list.py",
     "varRefreshCmd": "print(var_dic_list())"
    },
    "r": {
     "delete_cmd_postfix": ") ",
     "delete_cmd_prefix": "rm(",
     "library": "var_list.r",
     "varRefreshCmd": "cat(var_dic_list()) "
    }
   },
   "types_to_exclude": [
    "module",
    "function",
    "builtin_function_or_method",
    "instance",
    "_Feature"
   ],
   "window_display": false
  }
 },
 "nbformat": 4,
 "nbformat_minor": 2
}
